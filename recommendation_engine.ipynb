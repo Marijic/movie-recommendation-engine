{
 "cells": [
  {
   "cell_type": "code",
   "execution_count": 1,
   "id": "3e42d072",
   "metadata": {
    "_cell_guid": "b1076dfc-b9ad-4769-8c92-a6c4dae69d19",
    "_uuid": "8f2839f25d086af736a60e9eeb907d3b93b6e0e5",
    "execution": {
     "iopub.execute_input": "2023-05-12T21:47:38.321889Z",
     "iopub.status.busy": "2023-05-12T21:47:38.321424Z",
     "iopub.status.idle": "2023-05-12T21:47:38.341721Z",
     "shell.execute_reply": "2023-05-12T21:47:38.340875Z"
    },
    "papermill": {
     "duration": 0.02874,
     "end_time": "2023-05-12T21:47:38.344406",
     "exception": false,
     "start_time": "2023-05-12T21:47:38.315666",
     "status": "completed"
    },
    "tags": []
   },
   "outputs": [
    {
     "name": "stdout",
     "output_type": "stream",
     "text": [
      "/kaggle/input/the-movies-dataset/ratings.csv\n",
      "/kaggle/input/the-movies-dataset/links_small.csv\n",
      "/kaggle/input/the-movies-dataset/credits.csv\n",
      "/kaggle/input/the-movies-dataset/keywords.csv\n",
      "/kaggle/input/the-movies-dataset/movies_metadata.csv\n",
      "/kaggle/input/the-movies-dataset/ratings_small.csv\n",
      "/kaggle/input/the-movies-dataset/links.csv\n"
     ]
    }
   ],
   "source": [
    "# This Python 3 environment comes with many helpful analytics libraries installed\n",
    "# It is defined by the kaggle/python Docker image: https://github.com/kaggle/docker-python\n",
    "# For example, here's several helpful packages to load\n",
    "\n",
    "import numpy as np # linear algebra\n",
    "import pandas as pd # data processing, CSV file I/O (e.g. pd.read_csv)\n",
    "\n",
    "# Input data files are available in the read-only \"../input/\" directory\n",
    "# For example, running this (by clicking run or pressing Shift+Enter) will list all files under the input directory\n",
    "\n",
    "import os\n",
    "for dirname, _, filenames in os.walk('/kaggle/input'):\n",
    "    for filename in filenames:\n",
    "        print(os.path.join(dirname, filename))\n",
    "\n",
    "# You can write up to 20GB to the current directory (/kaggle/working/) that gets preserved as output when you create a version using \"Save & Run All\" \n",
    "# You can also write temporary files to /kaggle/temp/, but they won't be saved outside of the current session"
   ]
  },
  {
   "cell_type": "code",
   "execution_count": 2,
   "id": "a969c77a",
   "metadata": {
    "execution": {
     "iopub.execute_input": "2023-05-12T21:47:38.353987Z",
     "iopub.status.busy": "2023-05-12T21:47:38.353612Z",
     "iopub.status.idle": "2023-05-12T21:47:43.670343Z",
     "shell.execute_reply": "2023-05-12T21:47:43.669277Z"
    },
    "papermill": {
     "duration": 5.32457,
     "end_time": "2023-05-12T21:47:43.673232",
     "exception": false,
     "start_time": "2023-05-12T21:47:38.348662",
     "status": "completed"
    },
    "tags": []
   },
   "outputs": [],
   "source": [
    "# Importing CSV files into DataFrames\n",
    "movies_df = pd.read_csv('/kaggle/input/the-movies-dataset/movies_metadata.csv', usecols = [3,5,20])\n",
    "credits_df = pd.read_csv('/kaggle/input/the-movies-dataset/credits.csv')"
   ]
  },
  {
   "cell_type": "code",
   "execution_count": 3,
   "id": "2177d83c",
   "metadata": {
    "execution": {
     "iopub.execute_input": "2023-05-12T21:47:43.683126Z",
     "iopub.status.busy": "2023-05-12T21:47:43.682713Z",
     "iopub.status.idle": "2023-05-12T21:47:43.804705Z",
     "shell.execute_reply": "2023-05-12T21:47:43.803650Z"
    },
    "papermill": {
     "duration": 0.130246,
     "end_time": "2023-05-12T21:47:43.807545",
     "exception": false,
     "start_time": "2023-05-12T21:47:43.677299",
     "status": "completed"
    },
    "tags": []
   },
   "outputs": [],
   "source": [
    "# Removing non-numeric values from movies_df['id']\n",
    "movies_df.drop(movies_df[~movies_df['id'].astype(str).str.match(r'^\\d{1,7}$')].index, inplace=True)\n",
    "\n",
    "# Converting movies_df['id'] to int16\n",
    "movies_df['id'] = movies_df['id'].astype('int16')\n",
    "\n",
    "# Merging movies_df and credits_df over the common column 'id'\n",
    "movies_and_credits = pd.merge(movies_df, credits_df, on='id')"
   ]
  },
  {
   "cell_type": "code",
   "execution_count": 4,
   "id": "21fbbc80",
   "metadata": {
    "execution": {
     "iopub.execute_input": "2023-05-12T21:47:43.817396Z",
     "iopub.status.busy": "2023-05-12T21:47:43.816966Z",
     "iopub.status.idle": "2023-05-12T21:47:43.856529Z",
     "shell.execute_reply": "2023-05-12T21:47:43.855426Z"
    },
    "papermill": {
     "duration": 0.047654,
     "end_time": "2023-05-12T21:47:43.859284",
     "exception": false,
     "start_time": "2023-05-12T21:47:43.811630",
     "status": "completed"
    },
    "tags": []
   },
   "outputs": [],
   "source": [
    "# Droping duplicates from movies_and_credits['id']\n",
    "movies_and_credits = movies_and_credits.drop_duplicates(subset='id')\n",
    "\n",
    "# Remove null values\n",
    "movies_and_credits.dropna(inplace=True)\n",
    "\n",
    "# Resetting row indices\n",
    "movies_and_credits = movies_and_credits.reset_index(drop=True)"
   ]
  },
  {
   "cell_type": "code",
   "execution_count": 5,
   "id": "dab26f66",
   "metadata": {
    "execution": {
     "iopub.execute_input": "2023-05-12T21:47:43.869297Z",
     "iopub.status.busy": "2023-05-12T21:47:43.868908Z",
     "iopub.status.idle": "2023-05-12T21:47:44.313446Z",
     "shell.execute_reply": "2023-05-12T21:47:44.312146Z"
    },
    "papermill": {
     "duration": 0.452865,
     "end_time": "2023-05-12T21:47:44.316363",
     "exception": false,
     "start_time": "2023-05-12T21:47:43.863498",
     "status": "completed"
    },
    "tags": []
   },
   "outputs": [],
   "source": [
    "# Extracting only the needed name substrings from genres, cast and crew columns\n",
    "\n",
    "import re\n",
    "\n",
    "genre_values = []\n",
    "\n",
    "for movie_genres in movies_and_credits['genres']:\n",
    "    genre_values.append(re.findall(\"'name': '([^']*)'\", movie_genres))\n",
    "\n",
    "movies_and_credits['genres'] = genre_values\n",
    "\n",
    "credits_actors = []\n",
    "\n",
    "for actors in movies_and_credits['cast']:\n",
    "    credits_actors.append(re.findall(\"'name': '([^']*)'\", actors))\n",
    "    \n",
    "movies_and_credits['actors'] = credits_actors\n",
    "\n",
    "credits_director = []\n",
    "\n",
    "for director in movies_and_credits['crew']:\n",
    "    credits_director.append(re.findall(\"'Director', 'name': '([^']*)'\", director))\n",
    "    \n",
    "movies_and_credits['director'] = credits_director"
   ]
  },
  {
   "cell_type": "code",
   "execution_count": 6,
   "id": "c49c3b27",
   "metadata": {
    "execution": {
     "iopub.execute_input": "2023-05-12T21:47:44.326364Z",
     "iopub.status.busy": "2023-05-12T21:47:44.325596Z",
     "iopub.status.idle": "2023-05-12T21:47:46.285388Z",
     "shell.execute_reply": "2023-05-12T21:47:46.284195Z"
    },
    "papermill": {
     "duration": 1.967848,
     "end_time": "2023-05-12T21:47:46.288267",
     "exception": false,
     "start_time": "2023-05-12T21:47:44.320419",
     "status": "completed"
    },
    "tags": []
   },
   "outputs": [
    {
     "name": "stderr",
     "output_type": "stream",
     "text": [
      "/opt/conda/lib/python3.10/site-packages/scipy/__init__.py:146: UserWarning: A NumPy version >=1.16.5 and <1.23.0 is required for this version of SciPy (detected version 1.23.5\n",
      "  warnings.warn(f\"A NumPy version >={np_minversion} and <{np_maxversion}\"\n",
      "/opt/conda/lib/python3.10/site-packages/sklearn/feature_extraction/text.py:528: UserWarning: The parameter 'token_pattern' will not be used since 'tokenizer' is not None'\n",
      "  warnings.warn(\n"
     ]
    }
   ],
   "source": [
    "# Feature extraction\n",
    "from sklearn.feature_extraction.text import CountVectorizer\n",
    "\n",
    "cv = CountVectorizer(tokenizer=lambda x: x.split('|'))\n",
    "\n",
    "genres_cv = cv.fit_transform(movies_and_credits['genres'].apply(lambda x: '|'.join(x)))\n",
    "\n",
    "actors_cv = cv.fit_transform(movies_and_credits['actors'].apply(lambda x: '|'.join(x)))\n",
    "\n",
    "directors_cv = cv.fit_transform(movies_and_credits['director'].apply(lambda x: '|'.join(x)))"
   ]
  },
  {
   "cell_type": "code",
   "execution_count": 7,
   "id": "f30f7cf4",
   "metadata": {
    "execution": {
     "iopub.execute_input": "2023-05-12T21:47:46.299124Z",
     "iopub.status.busy": "2023-05-12T21:47:46.298731Z",
     "iopub.status.idle": "2023-05-12T21:47:54.943926Z",
     "shell.execute_reply": "2023-05-12T21:47:54.942763Z"
    },
    "papermill": {
     "duration": 8.65418,
     "end_time": "2023-05-12T21:47:54.946745",
     "exception": false,
     "start_time": "2023-05-12T21:47:46.292565",
     "status": "completed"
    },
    "tags": []
   },
   "outputs": [],
   "source": [
    "from sklearn.metrics.pairwise import cosine_similarity\n",
    "\n",
    "# Building similarity matrices and combining them\n",
    "genres_sim = cosine_similarity(genres_cv)\n",
    "actors_sim = cosine_similarity(actors_cv)\n",
    "directors_sim = cosine_similarity(directors_cv)\n",
    "\n",
    "sim = genres_sim + actors_sim + directors_sim"
   ]
  },
  {
   "cell_type": "code",
   "execution_count": 8,
   "id": "0da97cf4",
   "metadata": {
    "execution": {
     "iopub.execute_input": "2023-05-12T21:47:54.957132Z",
     "iopub.status.busy": "2023-05-12T21:47:54.956731Z",
     "iopub.status.idle": "2023-05-12T21:47:56.679056Z",
     "shell.execute_reply": "2023-05-12T21:47:56.677905Z"
    },
    "papermill": {
     "duration": 1.73082,
     "end_time": "2023-05-12T21:47:56.682094",
     "exception": false,
     "start_time": "2023-05-12T21:47:54.951274",
     "status": "completed"
    },
    "tags": []
   },
   "outputs": [],
   "source": [
    "# Normalizing the similarity matrix\n",
    "from sklearn.preprocessing import MinMaxScaler\n",
    "\n",
    "scaler = MinMaxScaler()\n",
    "sim = scaler.fit_transform(sim)\n",
    "\n",
    "# Creating a mapping between movie titles and indices\n",
    "indices = pd.Series(movies_and_credits.index, index=movies_and_credits['title'])\n",
    "\n",
    "# Definition for recommending movies\n",
    "def get_recommendations(title):\n",
    "    idx = indices[title]\n",
    "    sim_scores = list(enumerate(sim[idx]))\n",
    "    sim_scores = sorted(sim_scores, key=lambda x: x[1], reverse=True)\n",
    "    sim_scores = sim_scores[1:11]\n",
    "    movie_indices = [i[0] for i in sim_scores]\n",
    "    return movies_and_credits['title'].iloc[movie_indices]"
   ]
  },
  {
   "cell_type": "code",
   "execution_count": 9,
   "id": "98060aca",
   "metadata": {
    "execution": {
     "iopub.execute_input": "2023-05-12T21:47:56.692583Z",
     "iopub.status.busy": "2023-05-12T21:47:56.692183Z",
     "iopub.status.idle": "2023-05-12T21:47:56.700756Z",
     "shell.execute_reply": "2023-05-12T21:47:56.699690Z"
    },
    "papermill": {
     "duration": 0.016604,
     "end_time": "2023-05-12T21:47:56.703260",
     "exception": false,
     "start_time": "2023-05-12T21:47:56.686656",
     "status": "completed"
    },
    "tags": []
   },
   "outputs": [
    {
     "data": {
      "text/plain": [
       "'#Alternative definition that returns the title and similarity score as percentage\\ndef get_recommendations(title):\\n    idx = indices[title]\\n    sim_scores = list(enumerate(sim[idx]))\\n    sim_scores = [(movies_and_credits[\\'title\\'][i], score) for i, score in sim_scores]\\n    sim_scores = sorted(sim_scores, key=lambda x: x[1], reverse=True)\\n    sim_scores = sim_scores[1:11]\\n    title_and_sim_df = pd.DataFrame(sim_scores, columns=[\\'title\\', \\'similarity_score\\'])\\n    title_and_sim_df[\\'similarity_score\\'] = [\"{:.0%}\".format(score) for score in title_and_sim_df[\\'similarity_score\\']]\\n    return title_and_sim_df'"
      ]
     },
     "execution_count": 9,
     "metadata": {},
     "output_type": "execute_result"
    }
   ],
   "source": [
    "'''#Alternative definition that returns the title and similarity score as percentage\n",
    "def get_recommendations(title):\n",
    "    idx = indices[title]\n",
    "    sim_scores = list(enumerate(sim[idx]))\n",
    "    sim_scores = [(movies_and_credits['title'][i], score) for i, score in sim_scores]\n",
    "    sim_scores = sorted(sim_scores, key=lambda x: x[1], reverse=True)\n",
    "    sim_scores = sim_scores[1:11]\n",
    "    title_and_sim_df = pd.DataFrame(sim_scores, columns=['title', 'similarity_score'])\n",
    "    title_and_sim_df['similarity_score'] = [\"{:.0%}\".format(score) for score in title_and_sim_df['similarity_score']]\n",
    "    return title_and_sim_df'''"
   ]
  },
  {
   "cell_type": "code",
   "execution_count": 10,
   "id": "0012b8be",
   "metadata": {
    "execution": {
     "iopub.execute_input": "2023-05-12T21:47:56.714705Z",
     "iopub.status.busy": "2023-05-12T21:47:56.713804Z",
     "iopub.status.idle": "2023-05-12T21:47:56.736259Z",
     "shell.execute_reply": "2023-05-12T21:47:56.735448Z"
    },
    "papermill": {
     "duration": 0.030298,
     "end_time": "2023-05-12T21:47:56.738332",
     "exception": false,
     "start_time": "2023-05-12T21:47:56.708034",
     "status": "completed"
    },
    "tags": []
   },
   "outputs": [
    {
     "data": {
      "text/plain": [
       "7988                                 Zodiac\n",
       "1136                               The Game\n",
       "3807                             Panic Room\n",
       "9108    The Curious Case of Benjamin Button\n",
       "2126                             Fight Club\n",
       "6661                        A Show of Force\n",
       "934                                  Alien³\n",
       "8306                       Eastern Promises\n",
       "8425                                  Awake\n",
       "626                      The Maltese Falcon\n",
       "Name: title, dtype: object"
      ]
     },
     "execution_count": 10,
     "metadata": {},
     "output_type": "execute_result"
    }
   ],
   "source": [
    "get_recommendations('Se7en')"
   ]
  }
 ],
 "metadata": {
  "kernelspec": {
   "display_name": "Python 3",
   "language": "python",
   "name": "python3"
  },
  "language_info": {
   "codemirror_mode": {
    "name": "ipython",
    "version": 3
   },
   "file_extension": ".py",
   "mimetype": "text/x-python",
   "name": "python",
   "nbconvert_exporter": "python",
   "pygments_lexer": "ipython3",
   "version": "3.10.10"
  },
  "papermill": {
   "default_parameters": {},
   "duration": 31.850017,
   "end_time": "2023-05-12T21:47:57.966948",
   "environment_variables": {},
   "exception": null,
   "input_path": "__notebook__.ipynb",
   "output_path": "__notebook__.ipynb",
   "parameters": {},
   "start_time": "2023-05-12T21:47:26.116931",
   "version": "2.4.0"
  }
 },
 "nbformat": 4,
 "nbformat_minor": 5
}
